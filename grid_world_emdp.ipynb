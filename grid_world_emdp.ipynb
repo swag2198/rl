{
 "cells": [
  {
   "cell_type": "code",
   "execution_count": 18,
   "metadata": {},
   "outputs": [],
   "source": [
    "import numpy as np\n",
    "import random\n",
    "import matplotlib.pyplot as plt\n",
    "plt.style.use([\"science\", \"notebook\", \"grid\"])"
   ]
  },
  {
   "cell_type": "code",
   "execution_count": 2,
   "metadata": {},
   "outputs": [],
   "source": [
    "import sys"
   ]
  },
  {
   "cell_type": "code",
   "execution_count": 6,
   "metadata": {},
   "outputs": [],
   "source": [
    "sys.path.append('./emdp')"
   ]
  },
  {
   "cell_type": "code",
   "execution_count": 7,
   "metadata": {},
   "outputs": [],
   "source": [
    "%config Completer.use_jedi = False"
   ]
  },
  {
   "cell_type": "code",
   "execution_count": 8,
   "metadata": {
    "scrolled": true
   },
   "outputs": [
    {
     "data": {
      "text/plain": [
       "['/Users/swagatam/Desktop/misc/rl',\n",
       " '/usr/local/Cellar/python@3.8/3.8.9/Frameworks/Python.framework/Versions/3.8/lib/python38.zip',\n",
       " '/usr/local/Cellar/python@3.8/3.8.9/Frameworks/Python.framework/Versions/3.8/lib/python3.8',\n",
       " '/usr/local/Cellar/python@3.8/3.8.9/Frameworks/Python.framework/Versions/3.8/lib/python3.8/lib-dynload',\n",
       " '',\n",
       " '/Users/swagatam/Library/Python/3.8/lib/python/site-packages',\n",
       " '/usr/local/lib/python3.8/site-packages',\n",
       " '/usr/local/lib/python3.8/site-packages/IPython/extensions',\n",
       " '/Users/swagatam/.ipython',\n",
       " './emdp']"
      ]
     },
     "execution_count": 8,
     "metadata": {},
     "output_type": "execute_result"
    }
   ],
   "source": [
    "sys.path"
   ]
  },
  {
   "cell_type": "markdown",
   "metadata": {},
   "source": [
    "### Exploring gridworld code from this repo: https://github.com/zafarali/emdp"
   ]
  },
  {
   "cell_type": "code",
   "execution_count": 39,
   "metadata": {},
   "outputs": [],
   "source": [
    "import emdp.gridworld as gw\n",
    "from emdp.gridworld import build_simple_grid\n",
    "from emdp.gridworld.builder_tools import create_reward_matrix\n",
    "from emdp import actions\n",
    "from emdp.gridworld import GridWorldPlotter"
   ]
  },
  {
   "cell_type": "code",
   "execution_count": 177,
   "metadata": {},
   "outputs": [],
   "source": [
    "def build_SB_example41():\n",
    "    \n",
    "    \"\"\"\n",
    "    There are four actions possible in each state, A = {up, down, right, left}, which deterministically cause the\n",
    "    corresponding state transitions, except that actions that would take the agent off the grid in fact leave the\n",
    "    state unchanged.\n",
    "    This is an undiscounted, episodic task. \n",
    "    The reward is -1 on all transitions until the terminal state is reached.\n",
    "    The terminal state is shaded in the figure (although it is shown in two places, it is formally one state).\n",
    "    \"\"\"\n",
    "    size = 4\n",
    "    gamma = 1      # undiscounted episodic task\n",
    "    p_success = 1  # actions always successful\n",
    "    \n",
    "    \n",
    "    reward_spec = {(0, 0): 0, (size-1, size-1): 0}\n",
    "    \n",
    "    P = build_simple_grid(size=size, terminal_states=reward_spec.keys(), p_success=p_success)\n",
    "    R = create_reward_matrix(P.shape[0], size, reward_spec, action_space=4)\n",
    "    R += -1        # set all transitions to -1 as create_reward_matrix initializes to 0\n",
    "    R[0, :] = 0\n",
    "    R[15, :] = 0\n",
    "    R[16, :] = 0   # also set the created absorbing state's reward to 0\n",
    "    #print(R)\n",
    "    \n",
    "    # note: terminal/absorbing states can't be the starting state!\n",
    "    num_terminal_states = len(reward_spec.keys()) + 1  # add 1 for constructed absorbing state\n",
    "    p0 = np.ones(P.shape[0])\n",
    "    p0[0] = 0\n",
    "    p0[15] = 0\n",
    "    p0[16] = 0\n",
    "    p0 = p0/(P.shape[0]-num_terminal_states)  # uniform starting probability (assumed)\n",
    "    \n",
    "    return gw.GridWorldMDP(P, R, gamma, p0, terminal_states=reward_spec.keys(), size=size)"
   ]
  },
  {
   "cell_type": "code",
   "execution_count": 207,
   "metadata": {},
   "outputs": [],
   "source": [
    "mdp = build_SB_example41()\n",
    "# state, reward, done, _ = mdp.step(actions.UP) # moves the agent up."
   ]
  },
  {
   "cell_type": "code",
   "execution_count": 208,
   "metadata": {},
   "outputs": [
    {
     "data": {
      "text/plain": [
       "([0, 15],\n",
       " array([0., 0., 0., 0., 0., 1., 0., 0., 0., 0., 0., 0., 0., 0., 0., 0., 0.]),\n",
       " (1, 1),\n",
       " 1,\n",
       " False,\n",
       " True)"
      ]
     },
     "execution_count": 208,
     "metadata": {},
     "output_type": "execute_result"
    }
   ],
   "source": [
    "mdp.terminal_states, mdp.current_state, mdp.human_state, mdp.gamma, mdp.done, mdp.has_absorbing_state"
   ]
  },
  {
   "cell_type": "code",
   "execution_count": 209,
   "metadata": {},
   "outputs": [],
   "source": [
    "# current_state = one hot representation of state vector\n",
    "# human_state = (x, y) coordinate of current_state of the agent!"
   ]
  },
  {
   "cell_type": "code",
   "execution_count": 179,
   "metadata": {},
   "outputs": [
    {
     "data": {
      "text/plain": [
       "array([0.        , 0.07142857, 0.07142857, 0.07142857, 0.07142857,\n",
       "       0.07142857, 0.07142857, 0.07142857, 0.07142857, 0.07142857,\n",
       "       0.07142857, 0.07142857, 0.07142857, 0.07142857, 0.07142857,\n",
       "       0.        , 0.        ])"
      ]
     },
     "execution_count": 179,
     "metadata": {},
     "output_type": "execute_result"
    }
   ],
   "source": [
    "mdp.p0"
   ]
  },
  {
   "cell_type": "code",
   "execution_count": 191,
   "metadata": {},
   "outputs": [
    {
     "data": {
      "text/plain": [
       "(17, 4, 17)"
      ]
     },
     "execution_count": 191,
     "metadata": {},
     "output_type": "execute_result"
    }
   ],
   "source": [
    "mdp.P.shape"
   ]
  },
  {
   "cell_type": "code",
   "execution_count": 181,
   "metadata": {},
   "outputs": [],
   "source": [
    "# def build_SB_example35():\n",
    "#     \"\"\"\n",
    "#     Example 3.5 from (Sutton and Barto, 2018) pg 60 (March 2018 version).\n",
    "#     A rectangular Gridworld representation of size 5 x 5.\n",
    "\n",
    "#     Quotation from book:\n",
    "#     At each state, four actions are possible: north, south, east, and west, which deterministically\n",
    "#     cause the agent to move one cell in the respective direction on the grid. Actions that\n",
    "#     would take the agent off the grid leave its location unchanged, but also result in a reward\n",
    "#     of −1. Other actions result in a reward of 0, except those that move the agent out of the\n",
    "#     special states A and B. From state A, all four actions yield a reward of +10 and take the\n",
    "#     agent to A'. From state B, all actions yield a reward of +5 and take the agent to B'\n",
    "#     \"\"\"\n",
    "#     size = 5\n",
    "#     P = gw.build_simple_grid(size=size, p_success=1)\n",
    "#     # modify P to match dynamics from book.\n",
    "\n",
    "#     P[1, :, :] = 0 # first set the probability of all actions from state 1 to zero\n",
    "#     P[1, :, 21] = 1 # now set the probability of going from 1 to 21 with prob 1 for all actions\n",
    "\n",
    "#     P[3, :, :] = 0  # first set the probability of all actions from state 3 to zero\n",
    "#     P[3, :, 13] = 1  # now set the probability of going from 3 to 13 with prob 1 for all actions\n",
    "\n",
    "#     R = np.zeros((P.shape[0], P.shape[1])) # initialize a matrix of size |S|x|A|\n",
    "#     R[1, :] = +10\n",
    "#     R[3, :] = +1\n",
    "\n",
    "#     p0 = np.ones(P.shape[0])/P.shape[0] # uniform starting probability (assumed)\n",
    "#     gamma = 0.9\n",
    "\n",
    "#     terminal_states = []\n",
    "#     return gw.GridWorldMDP(P, R, gamma, p0, terminal_states, size)"
   ]
  },
  {
   "cell_type": "code",
   "execution_count": 182,
   "metadata": {},
   "outputs": [],
   "source": [
    "# mdp = build_SB_example35()\n",
    "# state, reward, done, _ = mdp.step(actions.UP) # moves the agent up."
   ]
  },
  {
   "cell_type": "code",
   "execution_count": null,
   "metadata": {},
   "outputs": [],
   "source": []
  },
  {
   "cell_type": "code",
   "execution_count": 214,
   "metadata": {},
   "outputs": [
    {
     "data": {
      "text/plain": [
       "([0, 15], 1, (1, 3), False, True)"
      ]
     },
     "execution_count": 214,
     "metadata": {},
     "output_type": "execute_result"
    }
   ],
   "source": [
    "mdp = build_SB_example41()\n",
    "mdp.terminal_states, mdp.gamma, mdp.human_state, mdp.done, mdp.has_absorbing_state"
   ]
  },
  {
   "cell_type": "code",
   "execution_count": 215,
   "metadata": {},
   "outputs": [],
   "source": [
    "gwp = GridWorldPlotter(mdp.size, mdp.has_absorbing_state) # alternatively you can use GridWorldPlotter.from_mdp(mdp)\n",
    "\n",
    "# collect/sample some trajectories from the GridWorldMDP object:\n",
    "\n",
    "trajectories = []\n",
    "for _ in range(1): # 3 trajectories\n",
    "#     trajectory = [mdp.reset()]\n",
    "    trajectory = [mdp.current_state]\n",
    "    for _ in range(100): # 10 steps maximum\n",
    "        state, reward, done, info = mdp.step(random.sample([actions.LEFT, actions.RIGHT, \n",
    "                                                        actions.UP, actions.DOWN], 1)[0])\n",
    "        trajectory.append(state)\n",
    "        if done:\n",
    "            trajectory= trajectory[:-1] # whichever terminal state it hits, it moves to (0, 0). so remove last\n",
    "            break\n",
    "    trajectories.append(trajectory)"
   ]
  },
  {
   "cell_type": "code",
   "execution_count": 216,
   "metadata": {},
   "outputs": [
    {
     "data": {
      "text/plain": [
       "[array([0., 0., 0., 0., 0., 0., 0., 1., 0., 0., 0., 0., 0., 0., 0., 0., 0.]),\n",
       " array([0., 0., 0., 1., 0., 0., 0., 0., 0., 0., 0., 0., 0., 0., 0., 0., 0.]),\n",
       " array([0., 0., 0., 1., 0., 0., 0., 0., 0., 0., 0., 0., 0., 0., 0., 0., 0.]),\n",
       " array([0., 0., 0., 0., 0., 0., 0., 1., 0., 0., 0., 0., 0., 0., 0., 0., 0.]),\n",
       " array([0., 0., 0., 0., 0., 0., 0., 0., 0., 0., 0., 1., 0., 0., 0., 0., 0.]),\n",
       " array([0., 0., 0., 0., 0., 0., 0., 0., 0., 0., 0., 0., 0., 0., 0., 1., 0.])]"
      ]
     },
     "execution_count": 216,
     "metadata": {},
     "output_type": "execute_result"
    }
   ],
   "source": [
    "trajectories[0]"
   ]
  },
  {
   "cell_type": "code",
   "execution_count": 217,
   "metadata": {},
   "outputs": [
    {
     "data": {
      "text/plain": [
       "<AxesSubplot:xlabel='x', ylabel='y'>"
      ]
     },
     "execution_count": 217,
     "metadata": {},
     "output_type": "execute_result"
    },
    {
     "data": {
      "image/png": "[encoded data removed]",
      "text/plain": [
       "<Figure size 720x288 with 2 Axes>"
      ]
     },
     "metadata": {
      "needs_background": "light"
     },
     "output_type": "display_data"
    }
   ],
   "source": [
    "fig = plt.figure(figsize=(10, 4))\n",
    "ax = fig.add_subplot(121)\n",
    "\n",
    "# trajectory\n",
    "gwp.plot_trajectories(ax, trajectories)\n",
    "gwp.plot_grid(ax)\n",
    "\n",
    "# heatmap\n",
    "ax = fig.add_subplot(122)\n",
    "gwp.plot_heatmap(ax, trajectories)\n",
    "gwp.plot_grid(ax)"
   ]
  },
  {
   "cell_type": "code",
   "execution_count": null,
   "metadata": {},
   "outputs": [],
   "source": []
  },
  {
   "cell_type": "code",
   "execution_count": null,
   "metadata": {},
   "outputs": [],
   "source": []
  },
  {
   "cell_type": "code",
   "execution_count": null,
   "metadata": {},
   "outputs": [],
   "source": []
  },
  {
   "cell_type": "code",
   "execution_count": null,
   "metadata": {},
   "outputs": [],
   "source": []
  }
 ],
 "metadata": {
  "kernelspec": {
   "display_name": "Python 3",
   "language": "python",
   "name": "python3"
  },
  "language_info": {
   "codemirror_mode": {
    "name": "ipython",
    "version": 3
   },
   "file_extension": ".py",
   "mimetype": "text/x-python",
   "name": "python",
   "nbconvert_exporter": "python",
   "pygments_lexer": "ipython3",
   "version": "3.8.9"
  }
 },
 "nbformat": 4,
 "nbformat_minor": 4
}
