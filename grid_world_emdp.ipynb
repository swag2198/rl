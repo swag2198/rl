{
 "cells": [
  {
   "cell_type": "code",
   "execution_count": 1,
   "metadata": {},
   "outputs": [],
   "source": [
    "import numpy as np\n",
    "import random\n",
    "import matplotlib.pyplot as plt\n",
    "plt.style.use([\"science\", \"notebook\", \"grid\"])"
   ]
  },
  {
   "cell_type": "code",
   "execution_count": 2,
   "metadata": {},
   "outputs": [],
   "source": [
    "import sys"
   ]
  },
  {
   "cell_type": "code",
   "execution_count": 3,
   "metadata": {},
   "outputs": [],
   "source": [
    "sys.path.append('./emdp')"
   ]
  },
  {
   "cell_type": "code",
   "execution_count": 4,
   "metadata": {},
   "outputs": [],
   "source": [
    "%config Completer.use_jedi = False"
   ]
  },
  {
   "cell_type": "code",
   "execution_count": 5,
   "metadata": {
    "scrolled": true
   },
   "outputs": [
    {
     "data": {
      "text/plain": [
       "['/Users/swagatam/Desktop/misc/rl',\n",
       " '/usr/local/Cellar/python@3.8/3.8.9/Frameworks/Python.framework/Versions/3.8/lib/python38.zip',\n",
       " '/usr/local/Cellar/python@3.8/3.8.9/Frameworks/Python.framework/Versions/3.8/lib/python3.8',\n",
       " '/usr/local/Cellar/python@3.8/3.8.9/Frameworks/Python.framework/Versions/3.8/lib/python3.8/lib-dynload',\n",
       " '',\n",
       " '/Users/swagatam/Library/Python/3.8/lib/python/site-packages',\n",
       " '/usr/local/lib/python3.8/site-packages',\n",
       " '/usr/local/lib/python3.8/site-packages/IPython/extensions',\n",
       " '/Users/swagatam/.ipython',\n",
       " './emdp']"
      ]
     },
     "execution_count": 5,
     "metadata": {},
     "output_type": "execute_result"
    }
   ],
   "source": [
    "sys.path"
   ]
  },
  {
   "cell_type": "markdown",
   "metadata": {},
   "source": [
    "### Exploring gridworld code from this repo: https://github.com/zafarali/emdp\n",
    "\n",
    "`mdp.current_state` = one hot representation of state vector\n",
    "\n",
    "`mdp.human_state` = (x, y) coordinate of current_state of the agent!"
   ]
  },
  {
   "cell_type": "code",
   "execution_count": 6,
   "metadata": {},
   "outputs": [],
   "source": [
    "import emdp.gridworld as gw\n",
    "from emdp.gridworld import build_simple_grid\n",
    "from emdp.gridworld.builder_tools import create_reward_matrix\n",
    "from emdp import actions\n",
    "from emdp.gridworld import GridWorldPlotter\n",
    "from emdp.analytic import calculate_V_pi"
   ]
  },
  {
   "cell_type": "code",
   "execution_count": 8,
   "metadata": {},
   "outputs": [],
   "source": [
    "def build_SB_example41():\n",
    "    \n",
    "    \"\"\"\n",
    "    There are four actions possible in each state, A = {up, down, right, left}, which deterministically cause the\n",
    "    corresponding state transitions, except that actions that would take the agent off the grid in fact leave the\n",
    "    state unchanged.\n",
    "    This is an undiscounted, episodic task. \n",
    "    The reward is -1 on all transitions until the terminal state is reached.\n",
    "    The terminal state is shaded in the figure (although it is shown in two places, it is formally one state).\n",
    "    \"\"\"\n",
    "    size = 4\n",
    "    gamma = 1      # undiscounted episodic task\n",
    "    p_success = 1  # actions always successful\n",
    "    \n",
    "    \n",
    "    # on entering any of these states, the mdp inadvertently makes a \n",
    "    # last transition to the absorbing states and stays there forever.\n",
    "    reward_spec = {(0, 0): 0, (size-1, size-1): 0}\n",
    "    \n",
    "    P = build_simple_grid(size=size, terminal_states=reward_spec.keys(), p_success=p_success)\n",
    "    R = create_reward_matrix(P.shape[0], size, reward_spec, action_space=4)\n",
    "    R += -1        # set all transitions to -1 as create_reward_matrix initializes to 0\n",
    "    R[0, :] = 0\n",
    "    R[15, :] = 0\n",
    "    R[16, :] = 0   # also set the created absorbing state's reward to 0\n",
    "    #print(R)\n",
    "    \n",
    "    # note: terminal/absorbing states can't be the starting state!\n",
    "    num_terminal_states = len(reward_spec.keys()) + 1  # add 1 for constructed absorbing state\n",
    "    p0 = np.ones(P.shape[0])\n",
    "    p0[0] = 0\n",
    "    p0[15] = 0\n",
    "    p0[16] = 0\n",
    "    p0 = p0/(P.shape[0]-num_terminal_states)  # uniform starting probability (assumed)\n",
    "    \n",
    "    return gw.GridWorldMDP(P, R, gamma, p0, terminal_states=reward_spec.keys(), size=size)"
   ]
  },
  {
   "cell_type": "markdown",
   "metadata": {},
   "source": [
    "### more generalised"
   ]
  },
  {
   "cell_type": "markdown",
   "metadata": {},
   "source": [
    "Q. Why add an extra absorbing state?\n",
    "- Episodic tasks (have terminal states and eventually interaction ends) and continuing tasks have different return expressions. **[From the book]** _These two can be unified by considering episode termination to be the entering of a special absorbing state that transitions only to itself and that generates only rewards of zero._"
   ]
  },
  {
   "cell_type": "code",
   "execution_count": 233,
   "metadata": {},
   "outputs": [],
   "source": [
    "def build_SB_example41(size=4):\n",
    "    \n",
    "    \"\"\"\n",
    "    There are four actions possible in each state, A = {up, down, right, left}, which deterministically cause the\n",
    "    corresponding state transitions, except that actions that would take the agent off the grid in fact leave the\n",
    "    state unchanged.\n",
    "    This is an undiscounted, episodic task. \n",
    "    The reward is -1 on all transitions until the terminal state is reached.\n",
    "    The terminal state is shaded in the figure (although it is shown in two places, it is formally one state).\n",
    "    \n",
    "    note on reward_spec/terminal_states:\n",
    "    ------------------------------------\n",
    "    On entering any of these states, the mdp inadvertently makes a last transition to the absorbing state and stays\n",
    "    there forever. (Ref: SB Section 3.4)\n",
    "    In this question, all transitions get -1 as reward except those last ones from terminal states which has \n",
    "    0 reward. Also in absorbing state, all actions receive 0 reward by definition of an episodic task.\n",
    "    \"\"\"\n",
    "    size = size\n",
    "    gamma = 1                # undiscounted episodic task\n",
    "    p_success = 1            # actions always successful\n",
    "    \n",
    "    reward_spec = {(0, 0): 1, (size-1, size-1): 1}\n",
    "    \n",
    "    P = build_simple_grid(size=size, terminal_states=reward_spec.keys(), p_success=p_success)\n",
    "    R = create_reward_matrix(P.shape[0], size, reward_spec, action_space=4)\n",
    "    #print(f\"R.shape={R.shape}\")\n",
    "    R += -1                  # makes rewards for all transitions -1, except from terminal states\n",
    "    R[P.shape[0]-1, :] = 0   # also set the constructed dummy absorbing state's reward to 0\n",
    "    #print(R)\n",
    "    \n",
    "    num_terminal_states = len(reward_spec.keys()) + 1\n",
    "    \n",
    "    # assumption: terminal/absorbing states can't be the starting state!\n",
    "    p0 = np.ones(P.shape[0])\n",
    "    for t in reward_spec:\n",
    "        #print(f\"t={t}\")\n",
    "        p0[size * t[0] + t[1]] = 0\n",
    "        \n",
    "    p0[size * size] = 0     # also set dummy absorbing state to zero\n",
    "    p0 = p0 / (P.shape[0] - num_terminal_states)\n",
    "    \n",
    "    return gw.GridWorldMDP(P, R, gamma, p0, terminal_states=reward_spec.keys(), size=size)"
   ]
  },
  {
   "cell_type": "code",
   "execution_count": 234,
   "metadata": {},
   "outputs": [
    {
     "data": {
      "text/plain": [
       "array([0.        , 0.07142857, 0.07142857, 0.07142857, 0.07142857,\n",
       "       0.07142857, 0.07142857, 0.07142857, 0.07142857, 0.07142857,\n",
       "       0.07142857, 0.07142857, 0.07142857, 0.07142857, 0.07142857,\n",
       "       0.        , 0.        ])"
      ]
     },
     "execution_count": 234,
     "metadata": {},
     "output_type": "execute_result"
    }
   ],
   "source": [
    "build_SB_example41().p0"
   ]
  },
  {
   "cell_type": "code",
   "execution_count": null,
   "metadata": {},
   "outputs": [],
   "source": []
  },
  {
   "cell_type": "code",
   "execution_count": null,
   "metadata": {},
   "outputs": [],
   "source": []
  },
  {
   "cell_type": "code",
   "execution_count": 235,
   "metadata": {},
   "outputs": [],
   "source": [
    "mdp = build_SB_example41()\n",
    "# state, reward, done, _ = mdp.step(actions.UP) # moves the agent up."
   ]
  },
  {
   "cell_type": "code",
   "execution_count": 236,
   "metadata": {},
   "outputs": [
    {
     "data": {
      "text/plain": [
       "([0, 15],\n",
       " array([0., 0., 0., 0., 0., 0., 0., 0., 0., 1., 0., 0., 0., 0., 0., 0., 0.]),\n",
       " (2, 1),\n",
       " 1,\n",
       " False,\n",
       " True)"
      ]
     },
     "execution_count": 236,
     "metadata": {},
     "output_type": "execute_result"
    }
   ],
   "source": [
    "mdp.terminal_states, mdp.current_state, mdp.human_state, mdp.gamma, mdp.done, mdp.has_absorbing_state"
   ]
  },
  {
   "cell_type": "code",
   "execution_count": 237,
   "metadata": {},
   "outputs": [],
   "source": [
    "# current_state = one hot representation of state vector\n",
    "# human_state = (x, y) coordinate of current_state of the agent!"
   ]
  },
  {
   "cell_type": "code",
   "execution_count": 238,
   "metadata": {},
   "outputs": [
    {
     "data": {
      "text/plain": [
       "array([0.        , 0.07142857, 0.07142857, 0.07142857, 0.07142857,\n",
       "       0.07142857, 0.07142857, 0.07142857, 0.07142857, 0.07142857,\n",
       "       0.07142857, 0.07142857, 0.07142857, 0.07142857, 0.07142857,\n",
       "       0.        , 0.        ])"
      ]
     },
     "execution_count": 238,
     "metadata": {},
     "output_type": "execute_result"
    }
   ],
   "source": [
    "mdp.p0"
   ]
  },
  {
   "cell_type": "code",
   "execution_count": 239,
   "metadata": {},
   "outputs": [
    {
     "data": {
      "text/plain": [
       "(17, 4, 17)"
      ]
     },
     "execution_count": 239,
     "metadata": {},
     "output_type": "execute_result"
    }
   ],
   "source": [
    "mdp.P.shape"
   ]
  },
  {
   "cell_type": "code",
   "execution_count": null,
   "metadata": {},
   "outputs": [],
   "source": []
  },
  {
   "cell_type": "code",
   "execution_count": null,
   "metadata": {},
   "outputs": [],
   "source": []
  },
  {
   "cell_type": "markdown",
   "metadata": {},
   "source": [
    "## build and simulate sample trajectories from a 10x10 gw"
   ]
  },
  {
   "cell_type": "code",
   "execution_count": 240,
   "metadata": {},
   "outputs": [
    {
     "data": {
      "text/plain": [
       "([0, 99], 1, (2, 7), False, True)"
      ]
     },
     "execution_count": 240,
     "metadata": {},
     "output_type": "execute_result"
    }
   ],
   "source": [
    "mdp = build_SB_example41(10)\n",
    "mdp.terminal_states, mdp.gamma, mdp.human_state, mdp.done, mdp.has_absorbing_state"
   ]
  },
  {
   "cell_type": "code",
   "execution_count": 241,
   "metadata": {},
   "outputs": [],
   "source": [
    "gwp = GridWorldPlotter(mdp.size, mdp.has_absorbing_state) # alternatively you can use GridWorldPlotter.from_mdp(mdp)\n",
    "\n",
    "# collect/sample some trajectories from the GridWorldMDP object:\n",
    "\n",
    "trajectories = []\n",
    "for _ in range(1000): # 1000 trajectories\n",
    "    trajectory = [mdp.reset()]\n",
    "#     trajectory = [mdp.current_state]\n",
    "#     for _ in range(100): # 10 steps maximum\n",
    "    while(1):\n",
    "        state, reward, done, info = mdp.step(random.sample([actions.LEFT, actions.RIGHT, \n",
    "                                                        actions.UP, actions.DOWN], 1)[0])\n",
    "        trajectory.append(state)\n",
    "        if done:\n",
    "            trajectory= trajectory[:-1] # whichever terminal state it hits, it moves to (0, 0). so remove last\n",
    "            break\n",
    "    trajectories.append(trajectory)"
   ]
  },
  {
   "cell_type": "code",
   "execution_count": 242,
   "metadata": {},
   "outputs": [
    {
     "data": {
      "text/plain": [
       "291"
      ]
     },
     "execution_count": 242,
     "metadata": {},
     "output_type": "execute_result"
    }
   ],
   "source": [
    "len(trajectories[2])"
   ]
  },
  {
   "cell_type": "code",
   "execution_count": 243,
   "metadata": {},
   "outputs": [
    {
     "data": {
      "text/plain": [
       "<AxesSubplot:xlabel='x', ylabel='y'>"
      ]
     },
     "execution_count": 243,
     "metadata": {},
     "output_type": "execute_result"
    },
    {
     "data": {
      "image/png": "[encoded data removed]",
      "text/plain": [
       "<Figure size 720x288 with 2 Axes>"
      ]
     },
     "metadata": {
      "needs_background": "light"
     },
     "output_type": "display_data"
    }
   ],
   "source": [
    "fig = plt.figure(figsize=(10, 4))\n",
    "ax = fig.add_subplot(121)\n",
    "\n",
    "# trajectory\n",
    "gwp.plot_trajectories(ax, trajectories)\n",
    "gwp.plot_grid(ax)\n",
    "\n",
    "# heatmap\n",
    "ax = fig.add_subplot(122)\n",
    "gwp.plot_heatmap(ax, trajectories)\n",
    "gwp.plot_grid(ax)"
   ]
  },
  {
   "cell_type": "markdown",
   "metadata": {},
   "source": [
    "Note how the movement of the agent dips quickly near the terminal states. It is indeed the expected behaviour in\n",
    "this gridworld."
   ]
  },
  {
   "cell_type": "code",
   "execution_count": 244,
   "metadata": {},
   "outputs": [
    {
     "data": {
      "text/plain": [
       "[0, 99]"
      ]
     },
     "execution_count": 244,
     "metadata": {},
     "output_type": "execute_result"
    }
   ],
   "source": [
    "mdp.terminal_states"
   ]
  },
  {
   "cell_type": "markdown",
   "metadata": {},
   "source": [
    "## test $V_\\pi$ solution for $\\pi$ = equiprobable random policy on a 4x4 gw"
   ]
  },
  {
   "cell_type": "code",
   "execution_count": 245,
   "metadata": {},
   "outputs": [
    {
     "data": {
      "text/plain": [
       "(4, [0, 15], 1, (1, 3), False, True)"
      ]
     },
     "execution_count": 245,
     "metadata": {},
     "output_type": "execute_result"
    }
   ],
   "source": [
    "mdp = build_SB_example41()\n",
    "mdp.size, mdp.terminal_states, mdp.gamma, mdp.human_state, mdp.done, mdp.has_absorbing_state"
   ]
  },
  {
   "cell_type": "code",
   "execution_count": 246,
   "metadata": {},
   "outputs": [],
   "source": [
    "# random policy:\n",
    "policy = np.ones((mdp.P.shape[0], mdp.P.shape[1]))/mdp.P.shape[1]"
   ]
  },
  {
   "cell_type": "code",
   "execution_count": 247,
   "metadata": {},
   "outputs": [
    {
     "data": {
      "text/plain": [
       "array([[0.25, 0.25, 0.25, 0.25],\n",
       "       [0.25, 0.25, 0.25, 0.25],\n",
       "       [0.25, 0.25, 0.25, 0.25],\n",
       "       [0.25, 0.25, 0.25, 0.25],\n",
       "       [0.25, 0.25, 0.25, 0.25],\n",
       "       [0.25, 0.25, 0.25, 0.25],\n",
       "       [0.25, 0.25, 0.25, 0.25],\n",
       "       [0.25, 0.25, 0.25, 0.25],\n",
       "       [0.25, 0.25, 0.25, 0.25],\n",
       "       [0.25, 0.25, 0.25, 0.25],\n",
       "       [0.25, 0.25, 0.25, 0.25],\n",
       "       [0.25, 0.25, 0.25, 0.25],\n",
       "       [0.25, 0.25, 0.25, 0.25],\n",
       "       [0.25, 0.25, 0.25, 0.25],\n",
       "       [0.25, 0.25, 0.25, 0.25],\n",
       "       [0.25, 0.25, 0.25, 0.25],\n",
       "       [0.25, 0.25, 0.25, 0.25]])"
      ]
     },
     "execution_count": 247,
     "metadata": {},
     "output_type": "execute_result"
    }
   ],
   "source": [
    "policy"
   ]
  },
  {
   "cell_type": "markdown",
   "metadata": {},
   "source": [
    "use analytic solution provided.\n",
    "make sure to **remove** the added absorbing state i.e., take only the original (size x size) states"
   ]
  },
  {
   "cell_type": "code",
   "execution_count": 248,
   "metadata": {},
   "outputs": [],
   "source": [
    "V_pi = calculate_V_pi(mdp.P[:-1, ..., :-1], mdp.R[:-1, ...], policy[:-1, ...], mdp.gamma)"
   ]
  },
  {
   "cell_type": "code",
   "execution_count": 249,
   "metadata": {},
   "outputs": [
    {
     "data": {
      "text/plain": [
       "array([[  0., -14., -20., -22.],\n",
       "       [-14., -18., -20., -20.],\n",
       "       [-20., -20., -18., -14.],\n",
       "       [-22., -20., -14.,   0.]])"
      ]
     },
     "execution_count": 249,
     "metadata": {},
     "output_type": "execute_result"
    }
   ],
   "source": [
    "V_pi.reshape(mdp.size, mdp.size)"
   ]
  },
  {
   "cell_type": "code",
   "execution_count": 250,
   "metadata": {},
   "outputs": [
    {
     "data": {
      "text/plain": [
       "(16, 4, 16)"
      ]
     },
     "execution_count": 250,
     "metadata": {},
     "output_type": "execute_result"
    }
   ],
   "source": [
    "mdp.P[:-1, ..., :-1].shape"
   ]
  },
  {
   "cell_type": "code",
   "execution_count": 251,
   "metadata": {},
   "outputs": [
    {
     "data": {
      "text/plain": [
       "4"
      ]
     },
     "execution_count": 251,
     "metadata": {},
     "output_type": "execute_result"
    }
   ],
   "source": [
    "mdp.size"
   ]
  },
  {
   "cell_type": "code",
   "execution_count": null,
   "metadata": {},
   "outputs": [],
   "source": []
  },
  {
   "cell_type": "code",
   "execution_count": null,
   "metadata": {},
   "outputs": [],
   "source": []
  }
 ],
 "metadata": {
  "kernelspec": {
   "display_name": "Python 3",
   "language": "python",
   "name": "python3"
  },
  "language_info": {
   "codemirror_mode": {
    "name": "ipython",
    "version": 3
   },
   "file_extension": ".py",
   "mimetype": "text/x-python",
   "name": "python",
   "nbconvert_exporter": "python",
   "pygments_lexer": "ipython3",
   "version": "3.8.9"
  }
 },
 "nbformat": 4,
 "nbformat_minor": 4
}
